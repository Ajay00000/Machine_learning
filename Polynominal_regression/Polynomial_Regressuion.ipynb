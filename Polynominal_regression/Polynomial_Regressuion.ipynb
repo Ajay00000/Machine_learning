{
 "cells": [
  {
   "cell_type": "code",
   "execution_count": 5,
   "metadata": {},
   "outputs": [],
   "source": [
    "import matplotlib.pyplot as plt \n",
    "from sklearn.preprocessing import PolynomialFeatures\n",
    "from sklearn.pipeline import Pipeline\n",
    "import numpy as np\n",
    "from sklearn.metrics import mean_squared_error"
   ]
  },
  {
   "cell_type": "markdown",
   "metadata": {},
   "source": [
    "##### Creating Data set With curv linier "
   ]
  },
  {
   "cell_type": "code",
   "execution_count": 8,
   "metadata": {},
   "outputs": [],
   "source": [
    "x = 10*np.random.normal(0,1,70)\n",
    "y = 10*(-x**2)+np.random.normal(-100,100,70)"
   ]
  },
  {
   "cell_type": "code",
   "execution_count": 10,
   "metadata": {},
   "outputs": [
    {
     "data": {
      "text/plain": [
       "array([ -208.44768172,  -302.43810281,  -613.2965952 ,  -248.92221222,\n",
       "       -1406.68125516,  -248.85447392,  -858.4295764 ,   110.89294997,\n",
       "         -18.1513178 ,  -333.98132942,   -42.35927386,   -40.43655609,\n",
       "       -2029.62948168, -2289.32859175,  -135.32213763,  -290.03054178,\n",
       "        -390.41387986,  -192.50232306, -7289.63626541,  -543.80382117,\n",
       "        -316.06894558, -2620.84731482,  -277.73455998,  -282.5112713 ,\n",
       "        -333.94077629,  -347.7280185 ,  -258.14713139,   -85.94642195,\n",
       "        -296.68519372,  -223.07184757, -1595.68088511,  -272.06646582,\n",
       "       -5801.14536426, -2905.45663156,  -608.01132612,  -697.16029645,\n",
       "         -54.08221348,  -478.62376632,  -342.36632973,  -349.61093125,\n",
       "        -149.59279345,   -50.87313487,   -37.94490795, -2521.9645809 ,\n",
       "         -42.46057672, -1120.33617421,  -836.55264635,  -437.48672232,\n",
       "        -173.72694819,  -184.87363627,  -972.81742834,  -267.57019023,\n",
       "        -803.53639713,  -762.39050822,  -160.76488014,  -388.02623499,\n",
       "       -1625.20129584, -2187.27486966, -4500.39571186,  -961.1960239 ,\n",
       "        -377.38189621, -1110.86583252,  -327.0446078 ,  -166.30408921,\n",
       "       -1133.7523459 ,   -86.2817208 , -2815.28195555,  -119.44437649,\n",
       "       -2796.39486883, -3615.67831679])"
      ]
     },
     "execution_count": 10,
     "metadata": {},
     "output_type": "execute_result"
    }
   ],
   "source": []
  },
  {
   "cell_type": "code",
   "execution_count": null,
   "metadata": {},
   "outputs": [],
   "source": []
  }
 ],
 "metadata": {
  "kernelspec": {
   "display_name": "Python 3",
   "language": "python",
   "name": "python3"
  },
  "language_info": {
   "codemirror_mode": {
    "name": "ipython",
    "version": 3
   },
   "file_extension": ".py",
   "mimetype": "text/x-python",
   "name": "python",
   "nbconvert_exporter": "python",
   "pygments_lexer": "ipython3",
   "version": "3.6.9"
  }
 },
 "nbformat": 4,
 "nbformat_minor": 4
}
